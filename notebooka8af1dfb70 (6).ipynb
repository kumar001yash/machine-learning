{
 "cells": [
  {
   "cell_type": "code",
   "execution_count": 1,
   "id": "0bc6e233",
   "metadata": {
    "execution": {
     "iopub.execute_input": "2022-08-31T20:59:43.616913Z",
     "iopub.status.busy": "2022-08-31T20:59:43.616380Z",
     "iopub.status.idle": "2022-08-31T20:59:45.272810Z",
     "shell.execute_reply": "2022-08-31T20:59:45.271591Z"
    },
    "papermill": {
     "duration": 1.670425,
     "end_time": "2022-08-31T20:59:45.276007",
     "exception": false,
     "start_time": "2022-08-31T20:59:43.605582",
     "status": "completed"
    },
    "tags": []
   },
   "outputs": [
    {
     "data": {
      "text/html": [
       "<div>\n",
       "<style scoped>\n",
       "    .dataframe tbody tr th:only-of-type {\n",
       "        vertical-align: middle;\n",
       "    }\n",
       "\n",
       "    .dataframe tbody tr th {\n",
       "        vertical-align: top;\n",
       "    }\n",
       "\n",
       "    .dataframe thead th {\n",
       "        text-align: right;\n",
       "    }\n",
       "</style>\n",
       "<table border=\"1\" class=\"dataframe\">\n",
       "  <thead>\n",
       "    <tr style=\"text-align: right;\">\n",
       "      <th></th>\n",
       "      <th>manufacturer</th>\n",
       "      <th>model</th>\n",
       "      <th>form</th>\n",
       "      <th>smartphone</th>\n",
       "      <th>year</th>\n",
       "      <th>units_sold_m</th>\n",
       "    </tr>\n",
       "  </thead>\n",
       "  <tbody>\n",
       "    <tr>\n",
       "      <th>0</th>\n",
       "      <td>1</td>\n",
       "      <td>1100</td>\n",
       "      <td>Bar</td>\n",
       "      <td>No</td>\n",
       "      <td>2003</td>\n",
       "      <td>250.0</td>\n",
       "    </tr>\n",
       "    <tr>\n",
       "      <th>1</th>\n",
       "      <td>1</td>\n",
       "      <td>1110</td>\n",
       "      <td>Bar</td>\n",
       "      <td>No</td>\n",
       "      <td>2005</td>\n",
       "      <td>247.5</td>\n",
       "    </tr>\n",
       "    <tr>\n",
       "      <th>2</th>\n",
       "      <td>2</td>\n",
       "      <td>iPhone 6 and iPhone 6 Plus</td>\n",
       "      <td>Touchscreen</td>\n",
       "      <td>Yes</td>\n",
       "      <td>2014</td>\n",
       "      <td>224.0</td>\n",
       "    </tr>\n",
       "    <tr>\n",
       "      <th>3</th>\n",
       "      <td>1</td>\n",
       "      <td>105 (2013), 105 (2015)</td>\n",
       "      <td>Bar</td>\n",
       "      <td>No</td>\n",
       "      <td>2013</td>\n",
       "      <td>200.0</td>\n",
       "    </tr>\n",
       "    <tr>\n",
       "      <th>4</th>\n",
       "      <td>2</td>\n",
       "      <td>iPhone 6S and iPhone 6S Plus</td>\n",
       "      <td>Touchscreen</td>\n",
       "      <td>Yes</td>\n",
       "      <td>2015</td>\n",
       "      <td>174.1</td>\n",
       "    </tr>\n",
       "  </tbody>\n",
       "</table>\n",
       "</div>"
      ],
      "text/plain": [
       "   manufacturer                         model         form smartphone  year  \\\n",
       "0             1                          1100          Bar         No  2003   \n",
       "1             1                          1110          Bar         No  2005   \n",
       "2             2    iPhone 6 and iPhone 6 Plus  Touchscreen        Yes  2014   \n",
       "3             1        105 (2013), 105 (2015)          Bar         No  2013   \n",
       "4             2  iPhone 6S and iPhone 6S Plus  Touchscreen        Yes  2015   \n",
       "\n",
       "   units_sold_m  \n",
       "0         250.0  \n",
       "1         247.5  \n",
       "2         224.0  \n",
       "3         200.0  \n",
       "4         174.1  "
      ]
     },
     "execution_count": 1,
     "metadata": {},
     "output_type": "execute_result"
    }
   ],
   "source": [
    "import pandas as pd\n",
    "from matplotlib import pyplot as plt\n",
    "import seaborn as sns\n",
    "from sklearn.tree import DecisionTreeRegressor\n",
    "from sklearn.model_selection import train_test_split\n",
    "from sklearn.metrics import accuracy_score\n",
    "df=pd.read_csv('../input/smart-phone-details/smartphone all manufacturer with digits details.csv')\n",
    "df.head()\n",
    "#1=Nokia\n",
    "#2=Apple\n",
    "#3=xiaomi\n",
    "#4=samsung\n",
    "#5=LG\n",
    "#6=voltas\n",
    "#7=hyundai\n",
    "#8=cello\n",
    "#9=redmi\n",
    "#10=one_plus\n",
    "#11=asus\n",
    "#12=hp\n",
    "#13=suzuki\n",
    "#14=ford"
   ]
  },
  {
   "cell_type": "code",
   "execution_count": 2,
   "id": "5e659243",
   "metadata": {
    "execution": {
     "iopub.execute_input": "2022-08-31T20:59:45.287738Z",
     "iopub.status.busy": "2022-08-31T20:59:45.287315Z",
     "iopub.status.idle": "2022-08-31T20:59:45.293797Z",
     "shell.execute_reply": "2022-08-31T20:59:45.292709Z"
    },
    "papermill": {
     "duration": 0.014733,
     "end_time": "2022-08-31T20:59:45.295942",
     "exception": false,
     "start_time": "2022-08-31T20:59:45.281209",
     "status": "completed"
    },
    "tags": []
   },
   "outputs": [
    {
     "data": {
      "text/plain": [
       "(111, 6)"
      ]
     },
     "execution_count": 2,
     "metadata": {},
     "output_type": "execute_result"
    }
   ],
   "source": [
    "df.shape"
   ]
  },
  {
   "cell_type": "code",
   "execution_count": 3,
   "id": "b39fb21f",
   "metadata": {
    "execution": {
     "iopub.execute_input": "2022-08-31T20:59:45.307416Z",
     "iopub.status.busy": "2022-08-31T20:59:45.307017Z",
     "iopub.status.idle": "2022-08-31T20:59:45.323760Z",
     "shell.execute_reply": "2022-08-31T20:59:45.322631Z"
    },
    "papermill": {
     "duration": 0.02504,
     "end_time": "2022-08-31T20:59:45.325851",
     "exception": false,
     "start_time": "2022-08-31T20:59:45.300811",
     "status": "completed"
    },
    "tags": []
   },
   "outputs": [
    {
     "data": {
      "text/plain": [
       "<bound method DataFrame.count of      manufacturer                         model          form smartphone  \\\n",
       "0               1                          1100           Bar         No   \n",
       "1               1                          1110           Bar         No   \n",
       "2               2    iPhone 6 and iPhone 6 Plus   Touchscreen        Yes   \n",
       "3               1        105 (2013), 105 (2015)           Bar         No   \n",
       "4               2  iPhone 6S and iPhone 6S Plus   Touchscreen        Yes   \n",
       "..            ...                           ...           ...        ...   \n",
       "106             5                            G2   Touchscreen        Yes   \n",
       "107            11                   LeEco Le 1s   Touchscreen        Yes   \n",
       "108            12            Pixel and Pixel XL   Touchscreen        Yes   \n",
       "109            13                        Centro  Keyboard bar        Yes   \n",
       "110             1                           N97   Tilt slider        Yes   \n",
       "\n",
       "     year  units_sold_m  \n",
       "0    2003         250.0  \n",
       "1    2005         247.5  \n",
       "2    2014         224.0  \n",
       "3    2013         200.0  \n",
       "4    2015         174.1  \n",
       "..    ...           ...  \n",
       "106  2013           3.0  \n",
       "107  2016           3.0  \n",
       "108  2016           2.1  \n",
       "109  2007           2.0  \n",
       "110  2009           2.0  \n",
       "\n",
       "[111 rows x 6 columns]>"
      ]
     },
     "execution_count": 3,
     "metadata": {},
     "output_type": "execute_result"
    }
   ],
   "source": [
    "df.count"
   ]
  },
  {
   "cell_type": "code",
   "execution_count": 4,
   "id": "f040b918",
   "metadata": {
    "execution": {
     "iopub.execute_input": "2022-08-31T20:59:45.337965Z",
     "iopub.status.busy": "2022-08-31T20:59:45.337277Z",
     "iopub.status.idle": "2022-08-31T20:59:45.367779Z",
     "shell.execute_reply": "2022-08-31T20:59:45.366790Z"
    },
    "papermill": {
     "duration": 0.039049,
     "end_time": "2022-08-31T20:59:45.370019",
     "exception": false,
     "start_time": "2022-08-31T20:59:45.330970",
     "status": "completed"
    },
    "tags": []
   },
   "outputs": [
    {
     "data": {
      "text/html": [
       "<div>\n",
       "<style scoped>\n",
       "    .dataframe tbody tr th:only-of-type {\n",
       "        vertical-align: middle;\n",
       "    }\n",
       "\n",
       "    .dataframe tbody tr th {\n",
       "        vertical-align: top;\n",
       "    }\n",
       "\n",
       "    .dataframe thead th {\n",
       "        text-align: right;\n",
       "    }\n",
       "</style>\n",
       "<table border=\"1\" class=\"dataframe\">\n",
       "  <thead>\n",
       "    <tr style=\"text-align: right;\">\n",
       "      <th></th>\n",
       "      <th>manufacturer</th>\n",
       "      <th>year</th>\n",
       "      <th>units_sold_m</th>\n",
       "    </tr>\n",
       "  </thead>\n",
       "  <tbody>\n",
       "    <tr>\n",
       "      <th>count</th>\n",
       "      <td>111.000000</td>\n",
       "      <td>111.000000</td>\n",
       "      <td>111.000000</td>\n",
       "    </tr>\n",
       "    <tr>\n",
       "      <th>mean</th>\n",
       "      <td>3.639640</td>\n",
       "      <td>2011.864865</td>\n",
       "      <td>50.447748</td>\n",
       "    </tr>\n",
       "    <tr>\n",
       "      <th>std</th>\n",
       "      <td>2.805167</td>\n",
       "      <td>6.147411</td>\n",
       "      <td>59.167349</td>\n",
       "    </tr>\n",
       "    <tr>\n",
       "      <th>min</th>\n",
       "      <td>1.000000</td>\n",
       "      <td>1996.000000</td>\n",
       "      <td>2.000000</td>\n",
       "    </tr>\n",
       "    <tr>\n",
       "      <th>25%</th>\n",
       "      <td>2.000000</td>\n",
       "      <td>2007.000000</td>\n",
       "      <td>10.000000</td>\n",
       "    </tr>\n",
       "    <tr>\n",
       "      <th>50%</th>\n",
       "      <td>3.000000</td>\n",
       "      <td>2012.000000</td>\n",
       "      <td>24.200000</td>\n",
       "    </tr>\n",
       "    <tr>\n",
       "      <th>75%</th>\n",
       "      <td>5.000000</td>\n",
       "      <td>2018.000000</td>\n",
       "      <td>60.000000</td>\n",
       "    </tr>\n",
       "    <tr>\n",
       "      <th>max</th>\n",
       "      <td>14.000000</td>\n",
       "      <td>2021.000000</td>\n",
       "      <td>250.000000</td>\n",
       "    </tr>\n",
       "  </tbody>\n",
       "</table>\n",
       "</div>"
      ],
      "text/plain": [
       "       manufacturer         year  units_sold_m\n",
       "count    111.000000   111.000000    111.000000\n",
       "mean       3.639640  2011.864865     50.447748\n",
       "std        2.805167     6.147411     59.167349\n",
       "min        1.000000  1996.000000      2.000000\n",
       "25%        2.000000  2007.000000     10.000000\n",
       "50%        3.000000  2012.000000     24.200000\n",
       "75%        5.000000  2018.000000     60.000000\n",
       "max       14.000000  2021.000000    250.000000"
      ]
     },
     "execution_count": 4,
     "metadata": {},
     "output_type": "execute_result"
    }
   ],
   "source": [
    "df.describe()"
   ]
  },
  {
   "cell_type": "code",
   "execution_count": 5,
   "id": "70c8d544",
   "metadata": {
    "execution": {
     "iopub.execute_input": "2022-08-31T20:59:45.382595Z",
     "iopub.status.busy": "2022-08-31T20:59:45.381850Z",
     "iopub.status.idle": "2022-08-31T20:59:45.642478Z",
     "shell.execute_reply": "2022-08-31T20:59:45.641458Z"
    },
    "papermill": {
     "duration": 0.269693,
     "end_time": "2022-08-31T20:59:45.645018",
     "exception": false,
     "start_time": "2022-08-31T20:59:45.375325",
     "status": "completed"
    },
    "tags": []
   },
   "outputs": [
    {
     "name": "stderr",
     "output_type": "stream",
     "text": [
      "/opt/conda/lib/python3.7/site-packages/seaborn/distributions.py:2619: FutureWarning: `distplot` is a deprecated function and will be removed in a future version. Please adapt your code to use either `displot` (a figure-level function with similar flexibility) or `histplot` (an axes-level function for histograms).\n",
      "  warnings.warn(msg, FutureWarning)\n"
     ]
    },
    {
     "data": {
      "image/png": "[encoded data removed]",
      "text/plain": [
       "<Figure size 432x288 with 1 Axes>"
      ]
     },
     "metadata": {
      "needs_background": "light"
     },
     "output_type": "display_data"
    }
   ],
   "source": [
    "sns.distplot(df['units_sold_m'])\n",
    "plt.show()\n"
   ]
  },
  {
   "cell_type": "code",
   "execution_count": 6,
   "id": "3daef62e",
   "metadata": {
    "execution": {
     "iopub.execute_input": "2022-08-31T20:59:45.658677Z",
     "iopub.status.busy": "2022-08-31T20:59:45.658186Z",
     "iopub.status.idle": "2022-08-31T20:59:45.886735Z",
     "shell.execute_reply": "2022-08-31T20:59:45.885633Z"
    },
    "papermill": {
     "duration": 0.238402,
     "end_time": "2022-08-31T20:59:45.889280",
     "exception": false,
     "start_time": "2022-08-31T20:59:45.650878",
     "status": "completed"
    },
    "tags": []
   },
   "outputs": [
    {
     "data": {
      "image/png": "[encoded data removed]",
      "text/plain": [
       "<Figure size 432x288 with 1 Axes>"
      ]
     },
     "metadata": {
      "needs_background": "light"
     },
     "output_type": "display_data"
    }
   ],
   "source": [
    "sns.histplot(df['year'])\n",
    "plt.show()"
   ]
  },
  {
   "cell_type": "code",
   "execution_count": 7,
   "id": "d110266c",
   "metadata": {
    "execution": {
     "iopub.execute_input": "2022-08-31T20:59:45.903696Z",
     "iopub.status.busy": "2022-08-31T20:59:45.902632Z",
     "iopub.status.idle": "2022-08-31T20:59:45.916230Z",
     "shell.execute_reply": "2022-08-31T20:59:45.915111Z"
    },
    "papermill": {
     "duration": 0.023556,
     "end_time": "2022-08-31T20:59:45.918993",
     "exception": false,
     "start_time": "2022-08-31T20:59:45.895437",
     "status": "completed"
    },
    "tags": []
   },
   "outputs": [
    {
     "data": {
      "text/html": [
       "<div>\n",
       "<style scoped>\n",
       "    .dataframe tbody tr th:only-of-type {\n",
       "        vertical-align: middle;\n",
       "    }\n",
       "\n",
       "    .dataframe tbody tr th {\n",
       "        vertical-align: top;\n",
       "    }\n",
       "\n",
       "    .dataframe thead th {\n",
       "        text-align: right;\n",
       "    }\n",
       "</style>\n",
       "<table border=\"1\" class=\"dataframe\">\n",
       "  <thead>\n",
       "    <tr style=\"text-align: right;\">\n",
       "      <th></th>\n",
       "      <th>manufacturer</th>\n",
       "      <th>model</th>\n",
       "      <th>form</th>\n",
       "      <th>smartphone</th>\n",
       "      <th>year</th>\n",
       "    </tr>\n",
       "  </thead>\n",
       "  <tbody>\n",
       "    <tr>\n",
       "      <th>0</th>\n",
       "      <td>1</td>\n",
       "      <td>1100</td>\n",
       "      <td>Bar</td>\n",
       "      <td>No</td>\n",
       "      <td>2003</td>\n",
       "    </tr>\n",
       "    <tr>\n",
       "      <th>1</th>\n",
       "      <td>1</td>\n",
       "      <td>1110</td>\n",
       "      <td>Bar</td>\n",
       "      <td>No</td>\n",
       "      <td>2005</td>\n",
       "    </tr>\n",
       "    <tr>\n",
       "      <th>2</th>\n",
       "      <td>2</td>\n",
       "      <td>iPhone 6 and iPhone 6 Plus</td>\n",
       "      <td>Touchscreen</td>\n",
       "      <td>Yes</td>\n",
       "      <td>2014</td>\n",
       "    </tr>\n",
       "    <tr>\n",
       "      <th>3</th>\n",
       "      <td>1</td>\n",
       "      <td>105 (2013), 105 (2015)</td>\n",
       "      <td>Bar</td>\n",
       "      <td>No</td>\n",
       "      <td>2013</td>\n",
       "    </tr>\n",
       "    <tr>\n",
       "      <th>4</th>\n",
       "      <td>2</td>\n",
       "      <td>iPhone 6S and iPhone 6S Plus</td>\n",
       "      <td>Touchscreen</td>\n",
       "      <td>Yes</td>\n",
       "      <td>2015</td>\n",
       "    </tr>\n",
       "  </tbody>\n",
       "</table>\n",
       "</div>"
      ],
      "text/plain": [
       "   manufacturer                         model         form smartphone  year\n",
       "0             1                          1100          Bar         No  2003\n",
       "1             1                          1110          Bar         No  2005\n",
       "2             2    iPhone 6 and iPhone 6 Plus  Touchscreen        Yes  2014\n",
       "3             1        105 (2013), 105 (2015)          Bar         No  2013\n",
       "4             2  iPhone 6S and iPhone 6S Plus  Touchscreen        Yes  2015"
      ]
     },
     "execution_count": 7,
     "metadata": {},
     "output_type": "execute_result"
    }
   ],
   "source": [
    "X=df.drop(labels='units_sold_m',axis=1)\n",
    "X\n",
    "X.head()\n"
   ]
  },
  {
   "cell_type": "code",
   "execution_count": 8,
   "id": "2b12af24",
   "metadata": {
    "execution": {
     "iopub.execute_input": "2022-08-31T20:59:45.933471Z",
     "iopub.status.busy": "2022-08-31T20:59:45.933037Z",
     "iopub.status.idle": "2022-08-31T20:59:45.949778Z",
     "shell.execute_reply": "2022-08-31T20:59:45.948804Z"
    },
    "papermill": {
     "duration": 0.026968,
     "end_time": "2022-08-31T20:59:45.952438",
     "exception": false,
     "start_time": "2022-08-31T20:59:45.925470",
     "status": "completed"
    },
    "tags": []
   },
   "outputs": [
    {
     "data": {
      "text/html": [
       "<div>\n",
       "<style scoped>\n",
       "    .dataframe tbody tr th:only-of-type {\n",
       "        vertical-align: middle;\n",
       "    }\n",
       "\n",
       "    .dataframe tbody tr th {\n",
       "        vertical-align: top;\n",
       "    }\n",
       "\n",
       "    .dataframe thead th {\n",
       "        text-align: right;\n",
       "    }\n",
       "</style>\n",
       "<table border=\"1\" class=\"dataframe\">\n",
       "  <thead>\n",
       "    <tr style=\"text-align: right;\">\n",
       "      <th></th>\n",
       "      <th>manufacturer</th>\n",
       "      <th>form</th>\n",
       "      <th>smartphone</th>\n",
       "      <th>year</th>\n",
       "    </tr>\n",
       "  </thead>\n",
       "  <tbody>\n",
       "    <tr>\n",
       "      <th>0</th>\n",
       "      <td>1</td>\n",
       "      <td>Bar</td>\n",
       "      <td>No</td>\n",
       "      <td>2003</td>\n",
       "    </tr>\n",
       "    <tr>\n",
       "      <th>1</th>\n",
       "      <td>1</td>\n",
       "      <td>Bar</td>\n",
       "      <td>No</td>\n",
       "      <td>2005</td>\n",
       "    </tr>\n",
       "    <tr>\n",
       "      <th>2</th>\n",
       "      <td>2</td>\n",
       "      <td>Touchscreen</td>\n",
       "      <td>Yes</td>\n",
       "      <td>2014</td>\n",
       "    </tr>\n",
       "    <tr>\n",
       "      <th>3</th>\n",
       "      <td>1</td>\n",
       "      <td>Bar</td>\n",
       "      <td>No</td>\n",
       "      <td>2013</td>\n",
       "    </tr>\n",
       "    <tr>\n",
       "      <th>4</th>\n",
       "      <td>2</td>\n",
       "      <td>Touchscreen</td>\n",
       "      <td>Yes</td>\n",
       "      <td>2015</td>\n",
       "    </tr>\n",
       "    <tr>\n",
       "      <th>...</th>\n",
       "      <td>...</td>\n",
       "      <td>...</td>\n",
       "      <td>...</td>\n",
       "      <td>...</td>\n",
       "    </tr>\n",
       "    <tr>\n",
       "      <th>106</th>\n",
       "      <td>5</td>\n",
       "      <td>Touchscreen</td>\n",
       "      <td>Yes</td>\n",
       "      <td>2013</td>\n",
       "    </tr>\n",
       "    <tr>\n",
       "      <th>107</th>\n",
       "      <td>11</td>\n",
       "      <td>Touchscreen</td>\n",
       "      <td>Yes</td>\n",
       "      <td>2016</td>\n",
       "    </tr>\n",
       "    <tr>\n",
       "      <th>108</th>\n",
       "      <td>12</td>\n",
       "      <td>Touchscreen</td>\n",
       "      <td>Yes</td>\n",
       "      <td>2016</td>\n",
       "    </tr>\n",
       "    <tr>\n",
       "      <th>109</th>\n",
       "      <td>13</td>\n",
       "      <td>Keyboard bar</td>\n",
       "      <td>Yes</td>\n",
       "      <td>2007</td>\n",
       "    </tr>\n",
       "    <tr>\n",
       "      <th>110</th>\n",
       "      <td>1</td>\n",
       "      <td>Tilt slider</td>\n",
       "      <td>Yes</td>\n",
       "      <td>2009</td>\n",
       "    </tr>\n",
       "  </tbody>\n",
       "</table>\n",
       "<p>111 rows × 4 columns</p>\n",
       "</div>"
      ],
      "text/plain": [
       "     manufacturer          form smartphone  year\n",
       "0               1           Bar         No  2003\n",
       "1               1           Bar         No  2005\n",
       "2               2   Touchscreen        Yes  2014\n",
       "3               1           Bar         No  2013\n",
       "4               2   Touchscreen        Yes  2015\n",
       "..            ...           ...        ...   ...\n",
       "106             5   Touchscreen        Yes  2013\n",
       "107            11   Touchscreen        Yes  2016\n",
       "108            12   Touchscreen        Yes  2016\n",
       "109            13  Keyboard bar        Yes  2007\n",
       "110             1   Tilt slider        Yes  2009\n",
       "\n",
       "[111 rows x 4 columns]"
      ]
     },
     "execution_count": 8,
     "metadata": {},
     "output_type": "execute_result"
    }
   ],
   "source": [
    "T=X.drop(labels='model',axis=1)\n",
    "T"
   ]
  },
  {
   "cell_type": "code",
   "execution_count": 9,
   "id": "2850f0de",
   "metadata": {
    "execution": {
     "iopub.execute_input": "2022-08-31T20:59:45.967296Z",
     "iopub.status.busy": "2022-08-31T20:59:45.966572Z",
     "iopub.status.idle": "2022-08-31T20:59:46.186152Z",
     "shell.execute_reply": "2022-08-31T20:59:46.185336Z"
    },
    "papermill": {
     "duration": 0.229513,
     "end_time": "2022-08-31T20:59:46.188374",
     "exception": false,
     "start_time": "2022-08-31T20:59:45.958861",
     "status": "completed"
    },
    "tags": []
   },
   "outputs": [
    {
     "data": {
      "image/png": "[encoded data removed]",
      "text/plain": [
       "<Figure size 432x288 with 1 Axes>"
      ]
     },
     "metadata": {
      "needs_background": "light"
     },
     "output_type": "display_data"
    }
   ],
   "source": [
    "sns.histplot(df['form'])\n",
    "plt.show()\n",
    "              "
   ]
  },
  {
   "cell_type": "code",
   "execution_count": 10,
   "id": "dc5ca113",
   "metadata": {
    "execution": {
     "iopub.execute_input": "2022-08-31T20:59:46.203756Z",
     "iopub.status.busy": "2022-08-31T20:59:46.203068Z",
     "iopub.status.idle": "2022-08-31T20:59:46.391379Z",
     "shell.execute_reply": "2022-08-31T20:59:46.390569Z"
    },
    "papermill": {
     "duration": 0.198581,
     "end_time": "2022-08-31T20:59:46.393683",
     "exception": false,
     "start_time": "2022-08-31T20:59:46.195102",
     "status": "completed"
    },
    "tags": []
   },
   "outputs": [
    {
     "data": {
      "image/png": "[encoded data removed]",
      "text/plain": [
       "<Figure size 432x288 with 1 Axes>"
      ]
     },
     "metadata": {
      "needs_background": "light"
     },
     "output_type": "display_data"
    }
   ],
   "source": [
    "sns.histplot(df['smartphone'])\n",
    "plt.show()"
   ]
  },
  {
   "cell_type": "code",
   "execution_count": 11,
   "id": "74d3fd25",
   "metadata": {
    "execution": {
     "iopub.execute_input": "2022-08-31T20:59:46.410306Z",
     "iopub.status.busy": "2022-08-31T20:59:46.409552Z",
     "iopub.status.idle": "2022-08-31T20:59:46.424630Z",
     "shell.execute_reply": "2022-08-31T20:59:46.423487Z"
    },
    "papermill": {
     "duration": 0.025761,
     "end_time": "2022-08-31T20:59:46.426937",
     "exception": false,
     "start_time": "2022-08-31T20:59:46.401176",
     "status": "completed"
    },
    "tags": []
   },
   "outputs": [
    {
     "data": {
      "text/html": [
       "<div>\n",
       "<style scoped>\n",
       "    .dataframe tbody tr th:only-of-type {\n",
       "        vertical-align: middle;\n",
       "    }\n",
       "\n",
       "    .dataframe tbody tr th {\n",
       "        vertical-align: top;\n",
       "    }\n",
       "\n",
       "    .dataframe thead th {\n",
       "        text-align: right;\n",
       "    }\n",
       "</style>\n",
       "<table border=\"1\" class=\"dataframe\">\n",
       "  <thead>\n",
       "    <tr style=\"text-align: right;\">\n",
       "      <th></th>\n",
       "      <th>manufacturer</th>\n",
       "      <th>smartphone</th>\n",
       "      <th>year</th>\n",
       "    </tr>\n",
       "  </thead>\n",
       "  <tbody>\n",
       "    <tr>\n",
       "      <th>0</th>\n",
       "      <td>1</td>\n",
       "      <td>No</td>\n",
       "      <td>2003</td>\n",
       "    </tr>\n",
       "    <tr>\n",
       "      <th>1</th>\n",
       "      <td>1</td>\n",
       "      <td>No</td>\n",
       "      <td>2005</td>\n",
       "    </tr>\n",
       "    <tr>\n",
       "      <th>2</th>\n",
       "      <td>2</td>\n",
       "      <td>Yes</td>\n",
       "      <td>2014</td>\n",
       "    </tr>\n",
       "    <tr>\n",
       "      <th>3</th>\n",
       "      <td>1</td>\n",
       "      <td>No</td>\n",
       "      <td>2013</td>\n",
       "    </tr>\n",
       "    <tr>\n",
       "      <th>4</th>\n",
       "      <td>2</td>\n",
       "      <td>Yes</td>\n",
       "      <td>2015</td>\n",
       "    </tr>\n",
       "    <tr>\n",
       "      <th>...</th>\n",
       "      <td>...</td>\n",
       "      <td>...</td>\n",
       "      <td>...</td>\n",
       "    </tr>\n",
       "    <tr>\n",
       "      <th>106</th>\n",
       "      <td>5</td>\n",
       "      <td>Yes</td>\n",
       "      <td>2013</td>\n",
       "    </tr>\n",
       "    <tr>\n",
       "      <th>107</th>\n",
       "      <td>11</td>\n",
       "      <td>Yes</td>\n",
       "      <td>2016</td>\n",
       "    </tr>\n",
       "    <tr>\n",
       "      <th>108</th>\n",
       "      <td>12</td>\n",
       "      <td>Yes</td>\n",
       "      <td>2016</td>\n",
       "    </tr>\n",
       "    <tr>\n",
       "      <th>109</th>\n",
       "      <td>13</td>\n",
       "      <td>Yes</td>\n",
       "      <td>2007</td>\n",
       "    </tr>\n",
       "    <tr>\n",
       "      <th>110</th>\n",
       "      <td>1</td>\n",
       "      <td>Yes</td>\n",
       "      <td>2009</td>\n",
       "    </tr>\n",
       "  </tbody>\n",
       "</table>\n",
       "<p>111 rows × 3 columns</p>\n",
       "</div>"
      ],
      "text/plain": [
       "     manufacturer smartphone  year\n",
       "0               1         No  2003\n",
       "1               1         No  2005\n",
       "2               2        Yes  2014\n",
       "3               1         No  2013\n",
       "4               2        Yes  2015\n",
       "..            ...        ...   ...\n",
       "106             5        Yes  2013\n",
       "107            11        Yes  2016\n",
       "108            12        Yes  2016\n",
       "109            13        Yes  2007\n",
       "110             1        Yes  2009\n",
       "\n",
       "[111 rows x 3 columns]"
      ]
     },
     "execution_count": 11,
     "metadata": {},
     "output_type": "execute_result"
    }
   ],
   "source": [
    "Z=T.drop(labels='form',axis=1)\n",
    "Z"
   ]
  },
  {
   "cell_type": "code",
   "execution_count": 12,
   "id": "20e7057d",
   "metadata": {
    "execution": {
     "iopub.execute_input": "2022-08-31T20:59:46.442819Z",
     "iopub.status.busy": "2022-08-31T20:59:46.442255Z",
     "iopub.status.idle": "2022-08-31T20:59:46.454401Z",
     "shell.execute_reply": "2022-08-31T20:59:46.453385Z"
    },
    "papermill": {
     "duration": 0.022724,
     "end_time": "2022-08-31T20:59:46.456797",
     "exception": false,
     "start_time": "2022-08-31T20:59:46.434073",
     "status": "completed"
    },
    "tags": []
   },
   "outputs": [
    {
     "data": {
      "text/html": [
       "<div>\n",
       "<style scoped>\n",
       "    .dataframe tbody tr th:only-of-type {\n",
       "        vertical-align: middle;\n",
       "    }\n",
       "\n",
       "    .dataframe tbody tr th {\n",
       "        vertical-align: top;\n",
       "    }\n",
       "\n",
       "    .dataframe thead th {\n",
       "        text-align: right;\n",
       "    }\n",
       "</style>\n",
       "<table border=\"1\" class=\"dataframe\">\n",
       "  <thead>\n",
       "    <tr style=\"text-align: right;\">\n",
       "      <th></th>\n",
       "      <th>manufacturer</th>\n",
       "      <th>year</th>\n",
       "    </tr>\n",
       "  </thead>\n",
       "  <tbody>\n",
       "    <tr>\n",
       "      <th>0</th>\n",
       "      <td>1</td>\n",
       "      <td>2003</td>\n",
       "    </tr>\n",
       "    <tr>\n",
       "      <th>1</th>\n",
       "      <td>1</td>\n",
       "      <td>2005</td>\n",
       "    </tr>\n",
       "    <tr>\n",
       "      <th>2</th>\n",
       "      <td>2</td>\n",
       "      <td>2014</td>\n",
       "    </tr>\n",
       "    <tr>\n",
       "      <th>3</th>\n",
       "      <td>1</td>\n",
       "      <td>2013</td>\n",
       "    </tr>\n",
       "    <tr>\n",
       "      <th>4</th>\n",
       "      <td>2</td>\n",
       "      <td>2015</td>\n",
       "    </tr>\n",
       "    <tr>\n",
       "      <th>...</th>\n",
       "      <td>...</td>\n",
       "      <td>...</td>\n",
       "    </tr>\n",
       "    <tr>\n",
       "      <th>106</th>\n",
       "      <td>5</td>\n",
       "      <td>2013</td>\n",
       "    </tr>\n",
       "    <tr>\n",
       "      <th>107</th>\n",
       "      <td>11</td>\n",
       "      <td>2016</td>\n",
       "    </tr>\n",
       "    <tr>\n",
       "      <th>108</th>\n",
       "      <td>12</td>\n",
       "      <td>2016</td>\n",
       "    </tr>\n",
       "    <tr>\n",
       "      <th>109</th>\n",
       "      <td>13</td>\n",
       "      <td>2007</td>\n",
       "    </tr>\n",
       "    <tr>\n",
       "      <th>110</th>\n",
       "      <td>1</td>\n",
       "      <td>2009</td>\n",
       "    </tr>\n",
       "  </tbody>\n",
       "</table>\n",
       "<p>111 rows × 2 columns</p>\n",
       "</div>"
      ],
      "text/plain": [
       "     manufacturer  year\n",
       "0               1  2003\n",
       "1               1  2005\n",
       "2               2  2014\n",
       "3               1  2013\n",
       "4               2  2015\n",
       "..            ...   ...\n",
       "106             5  2013\n",
       "107            11  2016\n",
       "108            12  2016\n",
       "109            13  2007\n",
       "110             1  2009\n",
       "\n",
       "[111 rows x 2 columns]"
      ]
     },
     "execution_count": 12,
     "metadata": {},
     "output_type": "execute_result"
    }
   ],
   "source": [
    "R=Z.drop(labels='smartphone',axis=1)\n",
    "R"
   ]
  },
  {
   "cell_type": "code",
   "execution_count": 13,
   "id": "3ba85a67",
   "metadata": {
    "execution": {
     "iopub.execute_input": "2022-08-31T20:59:46.473375Z",
     "iopub.status.busy": "2022-08-31T20:59:46.472722Z",
     "iopub.status.idle": "2022-08-31T20:59:46.479297Z",
     "shell.execute_reply": "2022-08-31T20:59:46.478613Z"
    },
    "papermill": {
     "duration": 0.016983,
     "end_time": "2022-08-31T20:59:46.481257",
     "exception": false,
     "start_time": "2022-08-31T20:59:46.464274",
     "status": "completed"
    },
    "tags": []
   },
   "outputs": [
    {
     "data": {
      "text/plain": [
       "0    250.0\n",
       "1    247.5\n",
       "2    224.0\n",
       "3    200.0\n",
       "4    174.1\n",
       "Name: units_sold_m, dtype: float64"
      ]
     },
     "execution_count": 13,
     "metadata": {},
     "output_type": "execute_result"
    }
   ],
   "source": [
    "Y=df['units_sold_m']\n",
    "Y.head()\n"
   ]
  },
  {
   "cell_type": "code",
   "execution_count": 14,
   "id": "6482ee96",
   "metadata": {
    "execution": {
     "iopub.execute_input": "2022-08-31T20:59:46.498095Z",
     "iopub.status.busy": "2022-08-31T20:59:46.497355Z",
     "iopub.status.idle": "2022-08-31T20:59:46.513164Z",
     "shell.execute_reply": "2022-08-31T20:59:46.511763Z"
    },
    "papermill": {
     "duration": 0.026815,
     "end_time": "2022-08-31T20:59:46.515566",
     "exception": false,
     "start_time": "2022-08-31T20:59:46.488751",
     "status": "completed"
    },
    "tags": []
   },
   "outputs": [
    {
     "name": "stderr",
     "output_type": "stream",
     "text": [
      "/opt/conda/lib/python3.7/site-packages/sklearn/base.py:451: UserWarning: X does not have valid feature names, but DecisionTreeRegressor was fitted with feature names\n",
      "  \"X does not have valid feature names, but\"\n"
     ]
    },
    {
     "data": {
      "text/plain": [
       "array([174.1])"
      ]
     },
     "execution_count": 14,
     "metadata": {},
     "output_type": "execute_result"
    }
   ],
   "source": [
    "model=DecisionTreeRegressor(random_state=46)\n",
    "\n",
    "model.fit(R,Y)\n",
    "predictions=model.predict([[1 ,2015]])\n",
    "predictions"
   ]
  },
  {
   "cell_type": "markdown",
   "id": "db6b649b",
   "metadata": {
    "papermill": {
     "duration": 0.007069,
     "end_time": "2022-08-31T20:59:46.530207",
     "exception": false,
     "start_time": "2022-08-31T20:59:46.523138",
     "status": "completed"
    },
    "tags": []
   },
   "source": []
  },
  {
   "cell_type": "code",
   "execution_count": null,
   "id": "fe4f9329",
   "metadata": {
    "papermill": {
     "duration": 0.007054,
     "end_time": "2022-08-31T20:59:46.544761",
     "exception": false,
     "start_time": "2022-08-31T20:59:46.537707",
     "status": "completed"
    },
    "tags": []
   },
   "outputs": [],
   "source": []
  },
  {
   "cell_type": "markdown",
   "id": "b44b1395",
   "metadata": {
    "papermill": {
     "duration": 0.007327,
     "end_time": "2022-08-31T20:59:46.559459",
     "exception": false,
     "start_time": "2022-08-31T20:59:46.552132",
     "status": "completed"
    },
    "tags": []
   },
   "source": []
  }
 ],
 "metadata": {
  "kernelspec": {
   "display_name": "Python 3",
   "language": "python",
   "name": "python3"
  },
  "language_info": {
   "codemirror_mode": {
    "name": "ipython",
    "version": 3
   },
   "file_extension": ".py",
   "mimetype": "text/x-python",
   "name": "python",
   "nbconvert_exporter": "python",
   "pygments_lexer": "ipython3",
   "version": "3.7.12"
  },
  "papermill": {
   "default_parameters": {},
   "duration": 14.176993,
   "end_time": "2022-08-31T20:59:47.389191",
   "environment_variables": {},
   "exception": null,
   "input_path": "__notebook__.ipynb",
   "output_path": "__notebook__.ipynb",
   "parameters": {},
   "start_time": "2022-08-31T20:59:33.212198",
   "version": "2.3.4"
  }
 },
 "nbformat": 4,
 "nbformat_minor": 5
}
